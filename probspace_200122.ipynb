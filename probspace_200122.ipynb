{
  "nbformat": 4,
  "nbformat_minor": 0,
  "metadata": {
    "colab": {
      "name": "probspace.ipynb のコピー",
      "provenance": [],
      "collapsed_sections": [],
      "toc_visible": true,
      "include_colab_link": true
    },
    "kernelspec": {
      "name": "python3",
      "display_name": "Python 3"
    },
    "accelerator": "GPU"
  },
  "cells": [
    {
      "cell_type": "markdown",
      "metadata": {
        "id": "view-in-github",
        "colab_type": "text"
      },
      "source": [
        "<a href=\"https://colab.research.google.com/github/sey323/KinectMusicGame/blob/master/probspace_200122.ipynb\" target=\"_parent\"><img src=\"https://colab.research.google.com/assets/colab-badge.svg\" alt=\"Open In Colab\"/></a>"
      ]
    },
    {
      "cell_type": "code",
      "metadata": {
        "id": "UPB928BmAKx5",
        "colab_type": "code",
        "outputId": "8c8a01a3-5a31-45b9-c00f-6cfff7da485e",
        "colab": {
          "base_uri": "https://localhost:8080/",
          "height": 34
        }
      },
      "source": [
        "! pwd"
      ],
      "execution_count": 1,
      "outputs": [
        {
          "output_type": "stream",
          "text": [
            "/content\n"
          ],
          "name": "stdout"
        }
      ]
    },
    {
      "cell_type": "code",
      "metadata": {
        "id": "B7WQgd5AB6VM",
        "colab_type": "code",
        "outputId": "e5f347ba-7188-4b76-f975-f06060264547",
        "colab": {
          "base_uri": "https://localhost:8080/",
          "height": 34
        }
      },
      "source": [
        "import pandas as pd\n",
        "import numpy as np\n",
        "import matplotlib.pyplot as plt\n",
        "\n",
        "# データの読み込み\n",
        "train_df = pd.read_csv(\"train_data.csv\")\n",
        "test_df = pd.read_csv(\"test_data.csv\")\n",
        "\n",
        "print(train_df.shape, test_df.shape)"
      ],
      "execution_count": 2,
      "outputs": [
        {
          "output_type": "stream",
          "text": [
            "(21000, 13) (9000, 12)\n"
          ],
          "name": "stdout"
        }
      ]
    },
    {
      "cell_type": "code",
      "metadata": {
        "id": "S8qpYevIYO-_",
        "colab_type": "code",
        "colab": {
          "base_uri": "https://localhost:8080/",
          "height": 204
        },
        "outputId": "782e4501-2d72-4e36-9e0e-84c626b68a28"
      },
      "source": [
        "test_df.head()"
      ],
      "execution_count": 3,
      "outputs": [
        {
          "output_type": "execute_result",
          "data": {
            "text/html": [
              "<div>\n",
              "<style scoped>\n",
              "    .dataframe tbody tr th:only-of-type {\n",
              "        vertical-align: middle;\n",
              "    }\n",
              "\n",
              "    .dataframe tbody tr th {\n",
              "        vertical-align: top;\n",
              "    }\n",
              "\n",
              "    .dataframe thead th {\n",
              "        text-align: right;\n",
              "    }\n",
              "</style>\n",
              "<table border=\"1\" class=\"dataframe\">\n",
              "  <thead>\n",
              "    <tr style=\"text-align: right;\">\n",
              "      <th></th>\n",
              "      <th>id</th>\n",
              "      <th>position</th>\n",
              "      <th>age</th>\n",
              "      <th>area</th>\n",
              "      <th>sex</th>\n",
              "      <th>partner</th>\n",
              "      <th>num_child</th>\n",
              "      <th>education</th>\n",
              "      <th>service_length</th>\n",
              "      <th>study_time</th>\n",
              "      <th>commute</th>\n",
              "      <th>overtime</th>\n",
              "    </tr>\n",
              "  </thead>\n",
              "  <tbody>\n",
              "    <tr>\n",
              "      <th>0</th>\n",
              "      <td>0</td>\n",
              "      <td>3</td>\n",
              "      <td>39</td>\n",
              "      <td>鹿児島県</td>\n",
              "      <td>2</td>\n",
              "      <td>1</td>\n",
              "      <td>5</td>\n",
              "      <td>1</td>\n",
              "      <td>19</td>\n",
              "      <td>1.0</td>\n",
              "      <td>1.8</td>\n",
              "      <td>14.2</td>\n",
              "    </tr>\n",
              "    <tr>\n",
              "      <th>1</th>\n",
              "      <td>1</td>\n",
              "      <td>1</td>\n",
              "      <td>31</td>\n",
              "      <td>宮城県</td>\n",
              "      <td>1</td>\n",
              "      <td>0</td>\n",
              "      <td>0</td>\n",
              "      <td>4</td>\n",
              "      <td>0</td>\n",
              "      <td>0.0</td>\n",
              "      <td>0.5</td>\n",
              "      <td>18.6</td>\n",
              "    </tr>\n",
              "    <tr>\n",
              "      <th>2</th>\n",
              "      <td>2</td>\n",
              "      <td>0</td>\n",
              "      <td>20</td>\n",
              "      <td>愛知県</td>\n",
              "      <td>2</td>\n",
              "      <td>1</td>\n",
              "      <td>2</td>\n",
              "      <td>0</td>\n",
              "      <td>2</td>\n",
              "      <td>2.0</td>\n",
              "      <td>1.2</td>\n",
              "      <td>2.3</td>\n",
              "    </tr>\n",
              "    <tr>\n",
              "      <th>3</th>\n",
              "      <td>3</td>\n",
              "      <td>0</td>\n",
              "      <td>28</td>\n",
              "      <td>三重県</td>\n",
              "      <td>2</td>\n",
              "      <td>0</td>\n",
              "      <td>0</td>\n",
              "      <td>0</td>\n",
              "      <td>10</td>\n",
              "      <td>3.0</td>\n",
              "      <td>0.3</td>\n",
              "      <td>0.0</td>\n",
              "    </tr>\n",
              "    <tr>\n",
              "      <th>4</th>\n",
              "      <td>4</td>\n",
              "      <td>1</td>\n",
              "      <td>41</td>\n",
              "      <td>愛媛県</td>\n",
              "      <td>2</td>\n",
              "      <td>0</td>\n",
              "      <td>0</td>\n",
              "      <td>0</td>\n",
              "      <td>23</td>\n",
              "      <td>3.0</td>\n",
              "      <td>0.5</td>\n",
              "      <td>10.1</td>\n",
              "    </tr>\n",
              "  </tbody>\n",
              "</table>\n",
              "</div>"
            ],
            "text/plain": [
              "   id  position  age  area  ...  service_length  study_time  commute  overtime\n",
              "0   0         3   39  鹿児島県  ...              19         1.0      1.8      14.2\n",
              "1   1         1   31   宮城県  ...               0         0.0      0.5      18.6\n",
              "2   2         0   20   愛知県  ...               2         2.0      1.2       2.3\n",
              "3   3         0   28   三重県  ...              10         3.0      0.3       0.0\n",
              "4   4         1   41   愛媛県  ...              23         3.0      0.5      10.1\n",
              "\n",
              "[5 rows x 12 columns]"
            ]
          },
          "metadata": {
            "tags": []
          },
          "execution_count": 3
        }
      ]
    },
    {
      "cell_type": "code",
      "metadata": {
        "id": "9Wq6suCdCHsE",
        "colab_type": "code",
        "outputId": "fa5c84f7-4b13-46f8-d2b1-7fe27c5d9dbe",
        "colab": {
          "base_uri": "https://localhost:8080/",
          "height": 317
        }
      },
      "source": [
        "# データの統計情報を表示\n",
        "train_df.describe()"
      ],
      "execution_count": 4,
      "outputs": [
        {
          "output_type": "execute_result",
          "data": {
            "text/html": [
              "<div>\n",
              "<style scoped>\n",
              "    .dataframe tbody tr th:only-of-type {\n",
              "        vertical-align: middle;\n",
              "    }\n",
              "\n",
              "    .dataframe tbody tr th {\n",
              "        vertical-align: top;\n",
              "    }\n",
              "\n",
              "    .dataframe thead th {\n",
              "        text-align: right;\n",
              "    }\n",
              "</style>\n",
              "<table border=\"1\" class=\"dataframe\">\n",
              "  <thead>\n",
              "    <tr style=\"text-align: right;\">\n",
              "      <th></th>\n",
              "      <th>id</th>\n",
              "      <th>position</th>\n",
              "      <th>age</th>\n",
              "      <th>sex</th>\n",
              "      <th>partner</th>\n",
              "      <th>num_child</th>\n",
              "      <th>education</th>\n",
              "      <th>service_length</th>\n",
              "      <th>study_time</th>\n",
              "      <th>commute</th>\n",
              "      <th>overtime</th>\n",
              "      <th>salary</th>\n",
              "    </tr>\n",
              "  </thead>\n",
              "  <tbody>\n",
              "    <tr>\n",
              "      <th>count</th>\n",
              "      <td>21000.000000</td>\n",
              "      <td>21000.000000</td>\n",
              "      <td>21000.000000</td>\n",
              "      <td>21000.000000</td>\n",
              "      <td>21000.000000</td>\n",
              "      <td>21000.000000</td>\n",
              "      <td>21000.000000</td>\n",
              "      <td>21000.000000</td>\n",
              "      <td>21000.000000</td>\n",
              "      <td>21000.000000</td>\n",
              "      <td>21000.000000</td>\n",
              "      <td>21000.000000</td>\n",
              "    </tr>\n",
              "    <tr>\n",
              "      <th>mean</th>\n",
              "      <td>10499.500000</td>\n",
              "      <td>1.226857</td>\n",
              "      <td>33.132476</td>\n",
              "      <td>1.498333</td>\n",
              "      <td>0.499333</td>\n",
              "      <td>0.999667</td>\n",
              "      <td>1.098571</td>\n",
              "      <td>12.303143</td>\n",
              "      <td>3.828476</td>\n",
              "      <td>1.059910</td>\n",
              "      <td>12.126752</td>\n",
              "      <td>361.170391</td>\n",
              "    </tr>\n",
              "    <tr>\n",
              "      <th>std</th>\n",
              "      <td>6062.322162</td>\n",
              "      <td>1.224682</td>\n",
              "      <td>10.715241</td>\n",
              "      <td>0.500009</td>\n",
              "      <td>0.500011</td>\n",
              "      <td>1.417459</td>\n",
              "      <td>1.116355</td>\n",
              "      <td>10.696823</td>\n",
              "      <td>3.312927</td>\n",
              "      <td>0.665307</td>\n",
              "      <td>5.509408</td>\n",
              "      <td>171.618501</td>\n",
              "    </tr>\n",
              "    <tr>\n",
              "      <th>min</th>\n",
              "      <td>0.000000</td>\n",
              "      <td>0.000000</td>\n",
              "      <td>18.000000</td>\n",
              "      <td>1.000000</td>\n",
              "      <td>0.000000</td>\n",
              "      <td>0.000000</td>\n",
              "      <td>0.000000</td>\n",
              "      <td>0.000000</td>\n",
              "      <td>0.000000</td>\n",
              "      <td>0.100000</td>\n",
              "      <td>0.000000</td>\n",
              "      <td>110.622310</td>\n",
              "    </tr>\n",
              "    <tr>\n",
              "      <th>25%</th>\n",
              "      <td>5249.750000</td>\n",
              "      <td>0.000000</td>\n",
              "      <td>24.000000</td>\n",
              "      <td>1.000000</td>\n",
              "      <td>0.000000</td>\n",
              "      <td>0.000000</td>\n",
              "      <td>0.000000</td>\n",
              "      <td>3.000000</td>\n",
              "      <td>1.000000</td>\n",
              "      <td>0.500000</td>\n",
              "      <td>8.300000</td>\n",
              "      <td>225.498117</td>\n",
              "    </tr>\n",
              "    <tr>\n",
              "      <th>50%</th>\n",
              "      <td>10499.500000</td>\n",
              "      <td>1.000000</td>\n",
              "      <td>30.000000</td>\n",
              "      <td>1.000000</td>\n",
              "      <td>0.000000</td>\n",
              "      <td>0.000000</td>\n",
              "      <td>1.000000</td>\n",
              "      <td>9.000000</td>\n",
              "      <td>3.000000</td>\n",
              "      <td>1.100000</td>\n",
              "      <td>12.100000</td>\n",
              "      <td>315.224583</td>\n",
              "    </tr>\n",
              "    <tr>\n",
              "      <th>75%</th>\n",
              "      <td>15749.250000</td>\n",
              "      <td>2.000000</td>\n",
              "      <td>42.000000</td>\n",
              "      <td>2.000000</td>\n",
              "      <td>1.000000</td>\n",
              "      <td>2.000000</td>\n",
              "      <td>2.000000</td>\n",
              "      <td>21.000000</td>\n",
              "      <td>6.000000</td>\n",
              "      <td>1.500000</td>\n",
              "      <td>15.800000</td>\n",
              "      <td>456.927443</td>\n",
              "    </tr>\n",
              "    <tr>\n",
              "      <th>max</th>\n",
              "      <td>20999.000000</td>\n",
              "      <td>4.000000</td>\n",
              "      <td>67.000000</td>\n",
              "      <td>2.000000</td>\n",
              "      <td>1.000000</td>\n",
              "      <td>9.000000</td>\n",
              "      <td>4.000000</td>\n",
              "      <td>49.000000</td>\n",
              "      <td>24.000000</td>\n",
              "      <td>4.800000</td>\n",
              "      <td>31.900000</td>\n",
              "      <td>1098.943632</td>\n",
              "    </tr>\n",
              "  </tbody>\n",
              "</table>\n",
              "</div>"
            ],
            "text/plain": [
              "                 id      position  ...      overtime        salary\n",
              "count  21000.000000  21000.000000  ...  21000.000000  21000.000000\n",
              "mean   10499.500000      1.226857  ...     12.126752    361.170391\n",
              "std     6062.322162      1.224682  ...      5.509408    171.618501\n",
              "min        0.000000      0.000000  ...      0.000000    110.622310\n",
              "25%     5249.750000      0.000000  ...      8.300000    225.498117\n",
              "50%    10499.500000      1.000000  ...     12.100000    315.224583\n",
              "75%    15749.250000      2.000000  ...     15.800000    456.927443\n",
              "max    20999.000000      4.000000  ...     31.900000   1098.943632\n",
              "\n",
              "[8 rows x 12 columns]"
            ]
          },
          "metadata": {
            "tags": []
          },
          "execution_count": 4
        }
      ]
    },
    {
      "cell_type": "code",
      "metadata": {
        "id": "SCAVQJK_Cq2k",
        "colab_type": "code",
        "outputId": "9fbe017c-f6d5-4aba-9de0-3e3d27678946",
        "colab": {
          "base_uri": "https://localhost:8080/",
          "height": 85
        }
      },
      "source": [
        "train_df.columns"
      ],
      "execution_count": 5,
      "outputs": [
        {
          "output_type": "execute_result",
          "data": {
            "text/plain": [
              "Index(['id', 'position', 'age', 'area', 'sex', 'partner', 'num_child',\n",
              "       'education', 'service_length', 'study_time', 'commute', 'overtime',\n",
              "       'salary'],\n",
              "      dtype='object')"
            ]
          },
          "metadata": {
            "tags": []
          },
          "execution_count": 5
        }
      ]
    },
    {
      "cell_type": "markdown",
      "metadata": {
        "id": "lNZSJtyfA2aa",
        "colab_type": "text"
      },
      "source": [
        "# データ分析"
      ]
    },
    {
      "cell_type": "code",
      "metadata": {
        "id": "Jq3VBWbcL5n-",
        "colab_type": "code",
        "colab": {
          "base_uri": "https://localhost:8080/",
          "height": 566
        },
        "outputId": "09e4dd79-7ed9-44c2-b381-111e9af2cf08"
      },
      "source": [
        "# 棒グラフを複数表示\n",
        "fig, ax = plt.subplots(2, 2, figsize=(15, 9))\n",
        "\n",
        "train_df[\"age\"].value_counts().sort_index().plot.bar(ax=ax[0][0]) # 年齢\n",
        "train_df[\"num_child\"].value_counts().sort_index().plot.bar(ax=ax[0][1]) # 子供の数\n",
        "train_df[\"service_length\"].value_counts().sort_index().plot.bar(ax=ax[1][0]) # 勤続年数\n",
        "train_df[\"study_time\"].value_counts().sort_index().plot.bar(ax=ax[1][1]) # 勉強時間"
      ],
      "execution_count": 6,
      "outputs": [
        {
          "output_type": "execute_result",
          "data": {
            "text/plain": [
              "<matplotlib.axes._subplots.AxesSubplot at 0x7f87b58cd4a8>"
            ]
          },
          "metadata": {
            "tags": []
          },
          "execution_count": 6
        },
        {
          "output_type": "display_data",
          "data": {
            "image/png": "[encoded data removed]",
            "text/plain": [
              "<Figure size 1080x648 with 4 Axes>"
            ]
          },
          "metadata": {
            "tags": []
          }
        }
      ]
    },
    {
      "cell_type": "markdown",
      "metadata": {
        "id": "I0xiF8pUDI9S",
        "colab_type": "text"
      },
      "source": [
        "## 特徴量加工"
      ]
    },
    {
      "cell_type": "code",
      "metadata": {
        "id": "e-L6pcVTFHk0",
        "colab_type": "code",
        "outputId": "9320298a-a7eb-4ec5-e509-beac318aa403",
        "colab": {
          "base_uri": "https://localhost:8080/",
          "height": 204
        }
      },
      "source": [
        "# 教師データを説明変数と目的変数に分割\n",
        "train_x, train_y = train_df.drop(\"salary\", axis=1), train_df[\"salary\"]\n",
        "train_x.head()"
      ],
      "execution_count": 7,
      "outputs": [
        {
          "output_type": "execute_result",
          "data": {
            "text/html": [
              "<div>\n",
              "<style scoped>\n",
              "    .dataframe tbody tr th:only-of-type {\n",
              "        vertical-align: middle;\n",
              "    }\n",
              "\n",
              "    .dataframe tbody tr th {\n",
              "        vertical-align: top;\n",
              "    }\n",
              "\n",
              "    .dataframe thead th {\n",
              "        text-align: right;\n",
              "    }\n",
              "</style>\n",
              "<table border=\"1\" class=\"dataframe\">\n",
              "  <thead>\n",
              "    <tr style=\"text-align: right;\">\n",
              "      <th></th>\n",
              "      <th>id</th>\n",
              "      <th>position</th>\n",
              "      <th>age</th>\n",
              "      <th>area</th>\n",
              "      <th>sex</th>\n",
              "      <th>partner</th>\n",
              "      <th>num_child</th>\n",
              "      <th>education</th>\n",
              "      <th>service_length</th>\n",
              "      <th>study_time</th>\n",
              "      <th>commute</th>\n",
              "      <th>overtime</th>\n",
              "    </tr>\n",
              "  </thead>\n",
              "  <tbody>\n",
              "    <tr>\n",
              "      <th>0</th>\n",
              "      <td>0</td>\n",
              "      <td>1</td>\n",
              "      <td>44</td>\n",
              "      <td>愛知県</td>\n",
              "      <td>2</td>\n",
              "      <td>1</td>\n",
              "      <td>2</td>\n",
              "      <td>1</td>\n",
              "      <td>24</td>\n",
              "      <td>2.0</td>\n",
              "      <td>1.6</td>\n",
              "      <td>9.2</td>\n",
              "    </tr>\n",
              "    <tr>\n",
              "      <th>1</th>\n",
              "      <td>1</td>\n",
              "      <td>2</td>\n",
              "      <td>31</td>\n",
              "      <td>奈良県</td>\n",
              "      <td>1</td>\n",
              "      <td>0</td>\n",
              "      <td>0</td>\n",
              "      <td>0</td>\n",
              "      <td>13</td>\n",
              "      <td>9.0</td>\n",
              "      <td>0.7</td>\n",
              "      <td>12.4</td>\n",
              "    </tr>\n",
              "    <tr>\n",
              "      <th>2</th>\n",
              "      <td>2</td>\n",
              "      <td>2</td>\n",
              "      <td>36</td>\n",
              "      <td>山口県</td>\n",
              "      <td>1</td>\n",
              "      <td>0</td>\n",
              "      <td>0</td>\n",
              "      <td>2</td>\n",
              "      <td>14</td>\n",
              "      <td>4.0</td>\n",
              "      <td>0.4</td>\n",
              "      <td>16.9</td>\n",
              "    </tr>\n",
              "    <tr>\n",
              "      <th>3</th>\n",
              "      <td>3</td>\n",
              "      <td>0</td>\n",
              "      <td>22</td>\n",
              "      <td>東京都</td>\n",
              "      <td>2</td>\n",
              "      <td>0</td>\n",
              "      <td>0</td>\n",
              "      <td>0</td>\n",
              "      <td>4</td>\n",
              "      <td>3.0</td>\n",
              "      <td>0.4</td>\n",
              "      <td>6.1</td>\n",
              "    </tr>\n",
              "    <tr>\n",
              "      <th>4</th>\n",
              "      <td>4</td>\n",
              "      <td>0</td>\n",
              "      <td>25</td>\n",
              "      <td>鹿児島県</td>\n",
              "      <td>2</td>\n",
              "      <td>0</td>\n",
              "      <td>0</td>\n",
              "      <td>1</td>\n",
              "      <td>5</td>\n",
              "      <td>3.0</td>\n",
              "      <td>0.2</td>\n",
              "      <td>4.9</td>\n",
              "    </tr>\n",
              "  </tbody>\n",
              "</table>\n",
              "</div>"
            ],
            "text/plain": [
              "   id  position  age  area  ...  service_length  study_time  commute  overtime\n",
              "0   0         1   44   愛知県  ...              24         2.0      1.6       9.2\n",
              "1   1         2   31   奈良県  ...              13         9.0      0.7      12.4\n",
              "2   2         2   36   山口県  ...              14         4.0      0.4      16.9\n",
              "3   3         0   22   東京都  ...               4         3.0      0.4       6.1\n",
              "4   4         0   25  鹿児島県  ...               5         3.0      0.2       4.9\n",
              "\n",
              "[5 rows x 12 columns]"
            ]
          },
          "metadata": {
            "tags": []
          },
          "execution_count": 7
        }
      ]
    },
    {
      "cell_type": "code",
      "metadata": {
        "id": "z5mnPDLvDLil",
        "colab_type": "code",
        "colab": {}
      },
      "source": [
        "def label_encorde(data_col):\n",
        "    '''\n",
        "    data_col     : 対象のデータフレームの１つの列\n",
        "    '''\n",
        "    from sklearn.preprocessing import LabelEncoder\n",
        "    le = LabelEncoder()\n",
        "    le = le.fit(data_col)\n",
        "    #ラベルを整数に変換\n",
        "    data_col = le.transform(data_col)\n",
        "\n",
        "    return data_col\n",
        "\n",
        "\n",
        "def log_convert(df, column_name):\n",
        "    '''\n",
        "    対数変換により偏りのある分布を正規分布に近づける\n",
        "    '''\n",
        "    df[column_name + \"_log\"] = df[column_name].apply(np.log1p)\n",
        "    return df"
      ],
      "execution_count": 0,
      "outputs": []
    },
    {
      "cell_type": "code",
      "metadata": {
        "id": "sSiNFVqe_01D",
        "colab_type": "code",
        "colab": {}
      },
      "source": [
        "def binning(df, column_name, bin_ranges, bin_labels):\n",
        "    '''\n",
        "    与えられたbin情報に従ってbinning\n",
        "    '''\n",
        "    df[column_name + '_bin']= pd.cut(df[column_name], bins=bin_ranges, labels=bin_labels)\n",
        "    df[column_name + \"_bin\"] = label_encorde(df[column_name + \"_bin\"])\n",
        "\n",
        "    return df"
      ],
      "execution_count": 0,
      "outputs": []
    },
    {
      "cell_type": "code",
      "metadata": {
        "id": "xbWRbV9rEjne",
        "colab_type": "code",
        "colab": {}
      },
      "source": [
        "def preprocess(df):\n",
        "  '''\n",
        "  前処理を行う\n",
        "  Parameters\n",
        "  -----\n",
        "    df : padnas.Dataframe\n",
        "      対象のデータフレーム\n",
        "  '''\n",
        "  # IDを取り除く\n",
        "  df = df.drop(\"id\", axis=1)\n",
        "  df[\"area\"] = label_encorde(df['area'])\n",
        "\n",
        "  # 数値データ→カテゴリデータ\n",
        "  # 年齢→年代\n",
        "  age_bin_range = [0, 24, 30, 40, 50, 100]\n",
        "  age_bin_labels = ['(18-24]', '(25-30]', '(31-40]', '(41-50]', '(51-']\n",
        "  df = binning(df, \"age\", age_bin_range, age_bin_labels)\n",
        "  \n",
        "  # 子供の人数\n",
        "  child_bin_ranges = [-1, 0, 2, 10]\n",
        "  child_bin_labels = ['0', '1~2', \"3~\"]\n",
        "  df = binning(df, \"num_child\", child_bin_ranges, child_bin_labels)\n",
        "  \n",
        "  # 就業年数\n",
        "  sl_bin_ranges = [-1, 1, 5, 10, 15, 20, 30, 40, 100]\n",
        "  sl_bin_labels = ['0~1', '2~5', '6~10', '11~15', '16~20', '21~30', \"31~40\", \"41~100\"]\n",
        "  df = binning(df, \"service_length\", sl_bin_ranges, sl_bin_labels)\n",
        "\n",
        "  # 人生の何％をその会社に尽くしたか\n",
        "  df[\"service_rate\"] = df[\"service_length\"] / df[\"age\"]\n",
        "\n",
        "  # 対数変換\n",
        "  # df = log_convert(df, \"study_time\")\n",
        "\n",
        "  return df"
      ],
      "execution_count": 0,
      "outputs": []
    },
    {
      "cell_type": "code",
      "metadata": {
        "id": "3Yi_RkwXEz05",
        "colab_type": "code",
        "colab": {}
      },
      "source": [
        "all_x = pd.concat([train_x, test_df])\n",
        "preprocessed_all_x = preprocess(all_x)\n",
        "\n",
        "# 前処理を行なったデータを，学習データとテストデータに再分割\n",
        "preprocessed_train_x, preprocessed_test_x = preprocessed_all_x[:train_x.shape[0]], preprocessed_all_x[train_x.shape[0]:]"
      ],
      "execution_count": 0,
      "outputs": []
    },
    {
      "cell_type": "markdown",
      "metadata": {
        "id": "cswgzmiRGTqX",
        "colab_type": "text"
      },
      "source": [
        "## モデルの作成"
      ]
    },
    {
      "cell_type": "code",
      "metadata": {
        "id": "TfYUC8-oFuiS",
        "colab_type": "code",
        "colab": {}
      },
      "source": [
        "# LightGBM\n",
        "import lightgbm as lgb\n",
        "\n",
        "# コードの動作を確認するためのモデル\n",
        "class lightGBM:\n",
        "    def __init__(self, params=None):\n",
        "        self.model = None\n",
        "        if params is not None:\n",
        "            self.params = params\n",
        "        else:\n",
        "            self.params = {'objective':'regression',\n",
        "                          'seed': 0,\n",
        "                          'verbose':10, \n",
        "                          'boosting_type': 'gbdt',\n",
        "                          'metrics':'mae', \n",
        "                          'learning_rate':0.01, \n",
        "                          'drop_rate':0.5\n",
        "                         }\n",
        "        self.num_round = 30000\n",
        "        self.early_stopping_rounds = 100\n",
        "        self.target_columms = []\n",
        "\n",
        "\n",
        "    def fit(self, tr_x, tr_y, va_x, va_y):\n",
        "        self.target_columms = tr_x.columns\n",
        "\n",
        "        # データセットを変換\n",
        "        lgb_train = lgb.Dataset(tr_x, tr_y)\n",
        "        lgb_eval = lgb.Dataset(va_x, va_y)\n",
        "\n",
        "        print(self.target_columms)\n",
        "        print(self.params)\n",
        "\n",
        "        self.model = lgb.train(self.params, \n",
        "                               lgb_train, \n",
        "                               num_boost_round=self.num_round,\n",
        "                               early_stopping_rounds=self.early_stopping_rounds,\n",
        "                               valid_names=['train', 'valid'],\n",
        "                               valid_sets=[lgb_train, lgb_eval],\n",
        "                               verbose_eval=200\n",
        "                              )\n",
        "        \n",
        "\n",
        "    def predict(self, x):\n",
        "        data = lgb.Dataset(x)\n",
        "        pred = self.model.predict(x, num_iteration=self.model.best_iteration)\n",
        "        return pred\n",
        "\n",
        "\n",
        "    def print_feature(self, target_columms=None):\n",
        "        '''\n",
        "        特徴量の出力\n",
        "        '''\n",
        "        if target_columms is not None:\n",
        "            self.target_columms = target_columms\n",
        "        feature_imp = pd.DataFrame(sorted(zip(self.model.feature_importance(), self.target_columms)), columns=['Value','Feature'])\n",
        "        print(feature_imp)"
      ],
      "execution_count": 0,
      "outputs": []
    },
    {
      "cell_type": "code",
      "metadata": {
        "id": "u8FV8k2gFYPk",
        "colab_type": "code",
        "colab": {}
      },
      "source": [
        "# テストデータの分割\n",
        "from sklearn.model_selection import train_test_split\n",
        "tr_x, va_x, tr_y, va_y = train_test_split(preprocessed_train_x, train_y, test_size=0.2, random_state=777)"
      ],
      "execution_count": 0,
      "outputs": []
    },
    {
      "cell_type": "code",
      "metadata": {
        "id": "-Ftyh2SZHNmV",
        "colab_type": "code",
        "outputId": "1ba5b137-539e-4e59-9a65-974471f4a7bb",
        "colab": {
          "base_uri": "https://localhost:8080/",
          "height": 391
        }
      },
      "source": [
        "# 学習の実行，バリデーションデータの予測値の出力，スコアの計算を行う\n",
        "model = lightGBM()\n",
        "model.fit(tr_x, tr_y, va_x, va_y)\n",
        "pred = model.predict(va_x)"
      ],
      "execution_count": 14,
      "outputs": [
        {
          "output_type": "stream",
          "text": [
            "Index(['position', 'age', 'area', 'sex', 'partner', 'num_child', 'education',\n",
            "       'service_length', 'study_time', 'commute', 'overtime', 'age_bin',\n",
            "       'num_child_bin', 'service_length_bin', 'service_rate'],\n",
            "      dtype='object')\n",
            "{'objective': 'regression', 'seed': 0, 'verbose': 10, 'boosting_type': 'gbdt', 'metrics': 'mae', 'learning_rate': 0.01, 'drop_rate': 0.5}\n",
            "Training until validation scores don't improve for 100 rounds.\n",
            "[200]\ttrain's l1: 36.4813\tvalid's l1: 38.1641\n",
            "[400]\ttrain's l1: 25.4594\tvalid's l1: 27.7413\n",
            "[600]\ttrain's l1: 22.943\tvalid's l1: 25.4963\n",
            "[800]\ttrain's l1: 21.9326\tvalid's l1: 24.7903\n",
            "[1000]\ttrain's l1: 21.3163\tvalid's l1: 24.4767\n",
            "[1200]\ttrain's l1: 20.8102\tvalid's l1: 24.2436\n",
            "[1400]\ttrain's l1: 20.374\tvalid's l1: 24.1136\n",
            "[1600]\ttrain's l1: 19.9719\tvalid's l1: 23.9562\n",
            "[1800]\ttrain's l1: 19.586\tvalid's l1: 23.8382\n",
            "[2000]\ttrain's l1: 19.2495\tvalid's l1: 23.7683\n",
            "[2200]\ttrain's l1: 18.9177\tvalid's l1: 23.6805\n",
            "[2400]\ttrain's l1: 18.6259\tvalid's l1: 23.6464\n",
            "[2600]\ttrain's l1: 18.371\tvalid's l1: 23.638\n",
            "[2800]\ttrain's l1: 18.1124\tvalid's l1: 23.6396\n",
            "Early stopping, best iteration is:\n",
            "[2708]\ttrain's l1: 18.2276\tvalid's l1: 23.6288\n"
          ],
          "name": "stdout"
        }
      ]
    },
    {
      "cell_type": "code",
      "metadata": {
        "id": "ak0z4sygX-MZ",
        "colab_type": "code",
        "colab": {
          "base_uri": "https://localhost:8080/",
          "height": 289
        },
        "outputId": "c0d74561-45e6-4553-90cf-8aea769a5089"
      },
      "source": [
        "# 学習した特徴量の重要度を見る\n",
        "model.print_feature()"
      ],
      "execution_count": 15,
      "outputs": [
        {
          "output_type": "stream",
          "text": [
            "    Value             Feature\n",
            "0       0             age_bin\n",
            "1       0       num_child_bin\n",
            "2     953  service_length_bin\n",
            "3    1359                 sex\n",
            "4    2403             partner\n",
            "5    3426      service_length\n",
            "6    4526           num_child\n",
            "7    5211            position\n",
            "8    5340          study_time\n",
            "9    5469           education\n",
            "10   6786        service_rate\n",
            "11   7747                 age\n",
            "12   9837                area\n",
            "13  11767            overtime\n",
            "14  16416             commute\n"
          ],
          "name": "stdout"
        }
      ]
    },
    {
      "cell_type": "markdown",
      "metadata": {
        "id": "yW1_5huiZ1MR",
        "colab_type": "text"
      },
      "source": [
        "## 結果を元に再び特徴量加工"
      ]
    },
    {
      "cell_type": "code",
      "metadata": {
        "id": "zCUbFb3IaTbX",
        "colab_type": "code",
        "colab": {}
      },
      "source": [
        "def after_preprocess(df):\n",
        "  '''\n",
        "  特徴量の重要度から再び特徴量作成\n",
        "  '''\n",
        "  df = df.drop([\"age_bin\", \"num_child_bin\"], axis=1)\n",
        "\n",
        "  # 残業時間\n",
        "  overtime_bin_ranges = [-1, 0, 5, 10, 20, 30, 40]\n",
        "  overtime_bin_labels = [\"0\", \"1~5\", \"6~10\", \"11~20\", \"21~30\", \"30~\"]\n",
        "  df = binning(df, \"overtime\", overtime_bin_ranges, overtime_bin_labels)\n",
        "  \n",
        "  return df"
      ],
      "execution_count": 0,
      "outputs": []
    },
    {
      "cell_type": "code",
      "metadata": {
        "id": "DWP1VybHZ9dv",
        "colab_type": "code",
        "colab": {
          "base_uri": "https://localhost:8080/",
          "height": 224
        },
        "outputId": "e2eb858a-5dd0-4b87-b279-9e1a578ddee2"
      },
      "source": [
        "all_x2 = pd.concat([preprocessed_train_x, preprocessed_test_x])\n",
        "preprocessed_all_x2 = after_preprocess(all_x2)\n",
        "\n",
        "# 前処理を行なったデータを，学習データとテストデータに再分割\n",
        "preprocessed_train_x2, preprocessed_test_x2 = preprocessed_all_x2[:train_x.shape[0]], preprocessed_all_x2[train_x.shape[0]:]\n",
        "preprocessed_train_x2.head()"
      ],
      "execution_count": 17,
      "outputs": [
        {
          "output_type": "execute_result",
          "data": {
            "text/html": [
              "<div>\n",
              "<style scoped>\n",
              "    .dataframe tbody tr th:only-of-type {\n",
              "        vertical-align: middle;\n",
              "    }\n",
              "\n",
              "    .dataframe tbody tr th {\n",
              "        vertical-align: top;\n",
              "    }\n",
              "\n",
              "    .dataframe thead th {\n",
              "        text-align: right;\n",
              "    }\n",
              "</style>\n",
              "<table border=\"1\" class=\"dataframe\">\n",
              "  <thead>\n",
              "    <tr style=\"text-align: right;\">\n",
              "      <th></th>\n",
              "      <th>position</th>\n",
              "      <th>age</th>\n",
              "      <th>area</th>\n",
              "      <th>sex</th>\n",
              "      <th>partner</th>\n",
              "      <th>num_child</th>\n",
              "      <th>education</th>\n",
              "      <th>service_length</th>\n",
              "      <th>study_time</th>\n",
              "      <th>commute</th>\n",
              "      <th>overtime</th>\n",
              "      <th>service_length_bin</th>\n",
              "      <th>service_rate</th>\n",
              "      <th>overtime_bin</th>\n",
              "    </tr>\n",
              "  </thead>\n",
              "  <tbody>\n",
              "    <tr>\n",
              "      <th>0</th>\n",
              "      <td>1</td>\n",
              "      <td>44</td>\n",
              "      <td>24</td>\n",
              "      <td>2</td>\n",
              "      <td>1</td>\n",
              "      <td>2</td>\n",
              "      <td>1</td>\n",
              "      <td>24</td>\n",
              "      <td>2.0</td>\n",
              "      <td>1.6</td>\n",
              "      <td>9.2</td>\n",
              "      <td>3</td>\n",
              "      <td>0.545455</td>\n",
              "      <td>5</td>\n",
              "    </tr>\n",
              "    <tr>\n",
              "      <th>1</th>\n",
              "      <td>2</td>\n",
              "      <td>31</td>\n",
              "      <td>10</td>\n",
              "      <td>1</td>\n",
              "      <td>0</td>\n",
              "      <td>0</td>\n",
              "      <td>0</td>\n",
              "      <td>13</td>\n",
              "      <td>9.0</td>\n",
              "      <td>0.7</td>\n",
              "      <td>12.4</td>\n",
              "      <td>1</td>\n",
              "      <td>0.419355</td>\n",
              "      <td>1</td>\n",
              "    </tr>\n",
              "    <tr>\n",
              "      <th>2</th>\n",
              "      <td>2</td>\n",
              "      <td>36</td>\n",
              "      <td>14</td>\n",
              "      <td>1</td>\n",
              "      <td>0</td>\n",
              "      <td>0</td>\n",
              "      <td>2</td>\n",
              "      <td>14</td>\n",
              "      <td>4.0</td>\n",
              "      <td>0.4</td>\n",
              "      <td>16.9</td>\n",
              "      <td>1</td>\n",
              "      <td>0.388889</td>\n",
              "      <td>1</td>\n",
              "    </tr>\n",
              "    <tr>\n",
              "      <th>3</th>\n",
              "      <td>0</td>\n",
              "      <td>22</td>\n",
              "      <td>26</td>\n",
              "      <td>2</td>\n",
              "      <td>0</td>\n",
              "      <td>0</td>\n",
              "      <td>0</td>\n",
              "      <td>4</td>\n",
              "      <td>3.0</td>\n",
              "      <td>0.4</td>\n",
              "      <td>6.1</td>\n",
              "      <td>4</td>\n",
              "      <td>0.181818</td>\n",
              "      <td>5</td>\n",
              "    </tr>\n",
              "    <tr>\n",
              "      <th>4</th>\n",
              "      <td>0</td>\n",
              "      <td>25</td>\n",
              "      <td>46</td>\n",
              "      <td>2</td>\n",
              "      <td>0</td>\n",
              "      <td>0</td>\n",
              "      <td>1</td>\n",
              "      <td>5</td>\n",
              "      <td>3.0</td>\n",
              "      <td>0.2</td>\n",
              "      <td>4.9</td>\n",
              "      <td>4</td>\n",
              "      <td>0.200000</td>\n",
              "      <td>2</td>\n",
              "    </tr>\n",
              "  </tbody>\n",
              "</table>\n",
              "</div>"
            ],
            "text/plain": [
              "   position  age  area  ...  service_length_bin  service_rate  overtime_bin\n",
              "0         1   44    24  ...                   3      0.545455             5\n",
              "1         2   31    10  ...                   1      0.419355             1\n",
              "2         2   36    14  ...                   1      0.388889             1\n",
              "3         0   22    26  ...                   4      0.181818             5\n",
              "4         0   25    46  ...                   4      0.200000             2\n",
              "\n",
              "[5 rows x 14 columns]"
            ]
          },
          "metadata": {
            "tags": []
          },
          "execution_count": 17
        }
      ]
    },
    {
      "cell_type": "code",
      "metadata": {
        "id": "aisnz3HYeYF1",
        "colab_type": "code",
        "colab": {}
      },
      "source": [
        "# テストデータの分割\n",
        "tr_x2, va_x2, tr_y2, va_y2 = train_test_split(preprocessed_train_x2, train_y, test_size=0.2, random_state=777)"
      ],
      "execution_count": 0,
      "outputs": []
    },
    {
      "cell_type": "code",
      "metadata": {
        "id": "9Kp2YCY7efd6",
        "colab_type": "code",
        "colab": {
          "base_uri": "https://localhost:8080/",
          "height": 408
        },
        "outputId": "8fc39372-8c7d-4191-bf40-27ba0b8f7bec"
      },
      "source": [
        "# 学習の実行，バリデーションデータの予測値の出力，スコアの計算を行う\n",
        "model2 = lightGBM()\n",
        "model2.fit(tr_x2, tr_y2, va_x2, va_y2)\n",
        "pred = model2.predict(va_x)"
      ],
      "execution_count": 19,
      "outputs": [
        {
          "output_type": "stream",
          "text": [
            "Index(['position', 'age', 'area', 'sex', 'partner', 'num_child', 'education',\n",
            "       'service_length', 'study_time', 'commute', 'overtime',\n",
            "       'service_length_bin', 'service_rate', 'overtime_bin'],\n",
            "      dtype='object')\n",
            "{'objective': 'regression', 'seed': 0, 'verbose': 10, 'boosting_type': 'gbdt', 'metrics': 'mae', 'learning_rate': 0.01, 'drop_rate': 0.5}\n",
            "Training until validation scores don't improve for 100 rounds.\n",
            "[200]\ttrain's l1: 36.4813\tvalid's l1: 38.1641\n",
            "[400]\ttrain's l1: 25.4288\tvalid's l1: 27.7013\n",
            "[600]\ttrain's l1: 22.9217\tvalid's l1: 25.4238\n",
            "[800]\ttrain's l1: 21.8916\tvalid's l1: 24.6767\n",
            "[1000]\ttrain's l1: 21.2889\tvalid's l1: 24.3713\n",
            "[1200]\ttrain's l1: 20.7866\tvalid's l1: 24.1508\n",
            "[1400]\ttrain's l1: 20.3496\tvalid's l1: 24.0189\n",
            "[1600]\ttrain's l1: 19.965\tvalid's l1: 23.9165\n",
            "[1800]\ttrain's l1: 19.5854\tvalid's l1: 23.8035\n",
            "[2000]\ttrain's l1: 19.2255\tvalid's l1: 23.6992\n",
            "[2200]\ttrain's l1: 18.9102\tvalid's l1: 23.6555\n",
            "[2400]\ttrain's l1: 18.6427\tvalid's l1: 23.6434\n",
            "[2600]\ttrain's l1: 18.3564\tvalid's l1: 23.6348\n",
            "[2800]\ttrain's l1: 18.0858\tvalid's l1: 23.6171\n",
            "[3000]\ttrain's l1: 17.814\tvalid's l1: 23.6003\n",
            "Early stopping, best iteration is:\n",
            "[3087]\ttrain's l1: 17.7086\tvalid's l1: 23.5962\n"
          ],
          "name": "stdout"
        }
      ]
    },
    {
      "cell_type": "code",
      "metadata": {
        "id": "G-LqFt8WelFZ",
        "colab_type": "code",
        "colab": {
          "base_uri": "https://localhost:8080/",
          "height": 272
        },
        "outputId": "c8e5a9b2-d032-4d92-c1f7-9b99488679c7"
      },
      "source": [
        "# 改めて特徴量の重要度を確認\n",
        "model2.print_feature()"
      ],
      "execution_count": 20,
      "outputs": [
        {
          "output_type": "stream",
          "text": [
            "    Value             Feature\n",
            "0     706        overtime_bin\n",
            "1    1110  service_length_bin\n",
            "2    1564                 sex\n",
            "3    2612             partner\n",
            "4    4037      service_length\n",
            "5    4909           num_child\n",
            "6    5719           education\n",
            "7    5767            position\n",
            "8    6565          study_time\n",
            "9    7635        service_rate\n",
            "10   8763                 age\n",
            "11  11551                area\n",
            "12  13517            overtime\n",
            "13  18155             commute\n"
          ],
          "name": "stdout"
        }
      ]
    },
    {
      "cell_type": "markdown",
      "metadata": {
        "id": "yEsxrJn7HGkQ",
        "colab_type": "text"
      },
      "source": [
        "## 提出ファイルの作成"
      ]
    },
    {
      "cell_type": "code",
      "metadata": {
        "id": "pM6kDlhsF-Ej",
        "colab_type": "code",
        "colab": {}
      },
      "source": [
        "# テスト用のモデルの評価\n",
        "proba = model.predict(preprocessed_test_x)"
      ],
      "execution_count": 0,
      "outputs": []
    },
    {
      "cell_type": "code",
      "metadata": {
        "id": "5fpGvzQCHdu8",
        "colab_type": "code",
        "outputId": "a676ac27-57ce-4d60-84fd-060417d6937e",
        "colab": {
          "base_uri": "https://localhost:8080/",
          "height": 204
        }
      },
      "source": [
        "# テストデータの作成\n",
        "submit_df = pd.DataFrame(test_df['id'])\n",
        "submit_df[1] = proba\n",
        "submit_df.head()"
      ],
      "execution_count": 22,
      "outputs": [
        {
          "output_type": "execute_result",
          "data": {
            "text/html": [
              "<div>\n",
              "<style scoped>\n",
              "    .dataframe tbody tr th:only-of-type {\n",
              "        vertical-align: middle;\n",
              "    }\n",
              "\n",
              "    .dataframe tbody tr th {\n",
              "        vertical-align: top;\n",
              "    }\n",
              "\n",
              "    .dataframe thead th {\n",
              "        text-align: right;\n",
              "    }\n",
              "</style>\n",
              "<table border=\"1\" class=\"dataframe\">\n",
              "  <thead>\n",
              "    <tr style=\"text-align: right;\">\n",
              "      <th></th>\n",
              "      <th>id</th>\n",
              "      <th>1</th>\n",
              "    </tr>\n",
              "  </thead>\n",
              "  <tbody>\n",
              "    <tr>\n",
              "      <th>0</th>\n",
              "      <td>0</td>\n",
              "      <td>525.948327</td>\n",
              "    </tr>\n",
              "    <tr>\n",
              "      <th>1</th>\n",
              "      <td>1</td>\n",
              "      <td>275.934738</td>\n",
              "    </tr>\n",
              "    <tr>\n",
              "      <th>2</th>\n",
              "      <td>2</td>\n",
              "      <td>207.177579</td>\n",
              "    </tr>\n",
              "    <tr>\n",
              "      <th>3</th>\n",
              "      <td>3</td>\n",
              "      <td>164.942983</td>\n",
              "    </tr>\n",
              "    <tr>\n",
              "      <th>4</th>\n",
              "      <td>4</td>\n",
              "      <td>303.477688</td>\n",
              "    </tr>\n",
              "  </tbody>\n",
              "</table>\n",
              "</div>"
            ],
            "text/plain": [
              "   id           1\n",
              "0   0  525.948327\n",
              "1   1  275.934738\n",
              "2   2  207.177579\n",
              "3   3  164.942983\n",
              "4   4  303.477688"
            ]
          },
          "metadata": {
            "tags": []
          },
          "execution_count": 22
        }
      ]
    },
    {
      "cell_type": "code",
      "metadata": {
        "id": "lzlimoRCWjXQ",
        "colab_type": "code",
        "colab": {}
      },
      "source": [
        "submit_df.to_csv('submit.csv',header=['id','y'],index=False)"
      ],
      "execution_count": 0,
      "outputs": []
    },
    {
      "cell_type": "code",
      "metadata": {
        "id": "c1-S-Alkg0zq",
        "colab_type": "code",
        "colab": {}
      },
      "source": [
        ""
      ],
      "execution_count": 0,
      "outputs": []
    }
  ]
}